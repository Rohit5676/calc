#age calculator
import datetime
a=input("Enter your Name :")
b=(input("Enter your Birth Year in (DD/MM/YY) :"))
birth_date=datetime.datetime.strptime (b,"%d/%m/%Y")
c=datetime.datetime.now()- birth_date

days=c.days
years=days// 365
months= days // 30
seconds= c.seconds

print(f"Days of birth   :,{days}")
print(f"Years of birth  :,{years}")
print(f"Months of birth :,{months}")
print(f"Seconds of birth:,{seconds}")
