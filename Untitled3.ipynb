{
  "nbformat": 4,
  "nbformat_minor": 0,
  "metadata": {
    "colab": {
      "provenance": [],
      "authorship_tag": "ABX9TyOisla8wzMRYGO1uXZdYPnr",
      "include_colab_link": true
    },
    "kernelspec": {
      "name": "python3",
      "display_name": "Python 3"
    },
    "language_info": {
      "name": "python"
    }
  },
  "cells": [
    {
      "cell_type": "markdown",
      "metadata": {
        "id": "view-in-github",
        "colab_type": "text"
      },
      "source": [
        "<a href=\"https://colab.research.google.com/github/Rohit5676/Age-Calculator/blob/main/Untitled3.ipynb\" target=\"_parent\"><img src=\"https://colab.research.google.com/assets/colab-badge.svg\" alt=\"Open In Colab\"/></a>"
      ]
    },
    {
      "cell_type": "code",
      "execution_count": null,
      "metadata": {
        "id": "zk5g_Ii8snF2"
      },
      "outputs": [],
      "source": [
        "#age calculator\n",
        "import datetime\n",
        "a=input(\"Enter your Name :\")\n",
        "b=(input(\"Enter your Birth Year in (DD/MM/YY) :\"))\n",
        "birth_date=datetime.datetime.strptime (b,\"%d/%m/%Y\")\n",
        "c=datetime.datetime.now()- birth_date\n",
        "\n",
        "days=c.days\n",
        "years=days// 365\n",
        "months= days // 30\n",
        "seconds= c.seconds\n",
        "\n",
        "print(f\"Days of birth   :,{days}\")\n",
        "print(f\"Years of birth  :,{years}\")\n",
        "print(f\"Months of birth :,{months}\")\n",
        "print(f\"Seconds of birth:,{seconds}\")"
      ]
    }
  ]
}